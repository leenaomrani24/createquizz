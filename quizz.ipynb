{
 "cells": [
  {
   "cell_type": "code",
   "execution_count": 2,
   "metadata": {},
   "outputs": [
    {
     "name": "stdout",
     "output_type": "stream",
     "text": [
      "Good job! Those are the right answers\n"
     ]
    }
   ],
   "source": [
    "question1 = input(\"what is the capital of Tunisia?\")\n",
    "question2= input(\"how many countries are there ?\")\n",
    "question3= input(\"what year are we?\")\n",
    "while question1 != 'Tunis' and question2 != 197 and question3 != 2023 :\n",
    "    print(\"Too bad! those are not the correct answers\")\n",
    "    question1= input(\"what is the capital of Tunisia\")\n",
    "    question2= input(\"how many countries are there ?\")\n",
    "    question3= input(\"what year are we?\")\n",
    "else :\n",
    "    print(\"Good job! Those are the right answers\")"
   ]
  }
 ],
 "metadata": {
  "kernelspec": {
   "display_name": "base",
   "language": "python",
   "name": "python3"
  },
  "language_info": {
   "codemirror_mode": {
    "name": "ipython",
    "version": 3
   },
   "file_extension": ".py",
   "mimetype": "text/x-python",
   "name": "python",
   "nbconvert_exporter": "python",
   "pygments_lexer": "ipython3",
   "version": "3.9.7"
  },
  "orig_nbformat": 4,
  "vscode": {
   "interpreter": {
    "hash": "40d3a090f54c6569ab1632332b64b2c03c39dcf918b08424e98f38b5ae0af88f"
   }
  }
 },
 "nbformat": 4,
 "nbformat_minor": 2
}
